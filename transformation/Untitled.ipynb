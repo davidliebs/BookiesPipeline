{
 "cells": [
  {
   "cell_type": "code",
   "execution_count": 2,
   "id": "fd5f78c5",
   "metadata": {},
   "outputs": [],
   "source": [
    "from pyspark.sql import SparkSession\n",
    "from pyspark.sql.functions import col, udf\n",
    "from pyspark.sql.types import StringType\n",
    "from ast import literal_eval\n",
    "\n",
    "import json"
   ]
  },
  {
   "cell_type": "code",
   "execution_count": 3,
   "id": "2d136eb2",
   "metadata": {},
   "outputs": [
    {
     "name": "stderr",
     "output_type": "stream",
     "text": [
      "22/05/05 09:54:42 WARN Utils: Your hostname, david-ubuntu resolves to a loopback address: 127.0.1.1; using 192.168.86.64 instead (on interface wlp43s0)\n",
      "22/05/05 09:54:42 WARN Utils: Set SPARK_LOCAL_IP if you need to bind to another address\n",
      "WARNING: An illegal reflective access operation has occurred\n",
      "WARNING: Illegal reflective access by org.apache.spark.unsafe.Platform (file:/home/david/.local/lib/python3.8/site-packages/pyspark/jars/spark-unsafe_2.12-3.2.0.jar) to constructor java.nio.DirectByteBuffer(long,int)\n",
      "WARNING: Please consider reporting this to the maintainers of org.apache.spark.unsafe.Platform\n",
      "WARNING: Use --illegal-access=warn to enable warnings of further illegal reflective access operations\n",
      "WARNING: All illegal access operations will be denied in a future release\n",
      "Using Spark's default log4j profile: org/apache/spark/log4j-defaults.properties\n",
      "Setting default log level to \"WARN\".\n",
      "To adjust logging level use sc.setLogLevel(newLevel). For SparkR, use setLogLevel(newLevel).\n",
      "22/05/05 09:54:43 WARN NativeCodeLoader: Unable to load native-hadoop library for your platform... using builtin-java classes where applicable\n"
     ]
    }
   ],
   "source": [
    "spark = SparkSession.builder.appName(\"Test\").getOrCreate()"
   ]
  },
  {
   "cell_type": "code",
   "execution_count": 4,
   "id": "156b18d9",
   "metadata": {},
   "outputs": [
    {
     "data": {
      "text/html": [
       "\n",
       "            <div>\n",
       "                <p><b>SparkSession - in-memory</b></p>\n",
       "                \n",
       "        <div>\n",
       "            <p><b>SparkContext</b></p>\n",
       "\n",
       "            <p><a href=\"http://david-ubuntu.lan:4040\">Spark UI</a></p>\n",
       "\n",
       "            <dl>\n",
       "              <dt>Version</dt>\n",
       "                <dd><code>v3.2.0</code></dd>\n",
       "              <dt>Master</dt>\n",
       "                <dd><code>local[*]</code></dd>\n",
       "              <dt>AppName</dt>\n",
       "                <dd><code>Test</code></dd>\n",
       "            </dl>\n",
       "        </div>\n",
       "        \n",
       "            </div>\n",
       "        "
      ],
      "text/plain": [
       "<pyspark.sql.session.SparkSession at 0x7f7bd1126100>"
      ]
     },
     "execution_count": 4,
     "metadata": {},
     "output_type": "execute_result"
    }
   ],
   "source": [
    "spark"
   ]
  },
  {
   "cell_type": "code",
   "execution_count": 5,
   "id": "f2e5612f",
   "metadata": {},
   "outputs": [],
   "source": [
    "## reading the dataset\n",
    "df = spark.read.csv('../../files/',header=True,inferSchema=True)"
   ]
  },
  {
   "cell_type": "code",
   "execution_count": 7,
   "id": "4811ea1f",
   "metadata": {},
   "outputs": [
    {
     "name": "stdout",
     "output_type": "stream",
     "text": [
      "<class 'pyspark.sql.dataframe.DataFrame'>\n"
     ]
    }
   ],
   "source": [
    "print(type(df))"
   ]
  },
  {
   "cell_type": "code",
   "execution_count": 9,
   "id": "e740e70a",
   "metadata": {},
   "outputs": [
    {
     "name": "stdout",
     "output_type": "stream",
     "text": [
      "+--------------------+------------+--------------------+\n",
      "|           match_url|      bookie|                odds|\n",
      "+--------------------+------------+--------------------+\n",
      "|https://www.oddsp...|    10x10bet|['17/100', '71/10...|\n",
      "|https://www.oddsp...|       1xBet|['9/50', '37/5', ...|\n",
      "|https://www.oddsp...| bet-at-home|['4/25', '31/5', ...|\n",
      "|https://www.oddsp...|      bet365|['7/50', '13/2', ...|\n",
      "|https://www.oddsp...|    BetFinal|['9/50', '13/2', ...|\n",
      "|https://www.oddsp...|        bwin|['4/25', '7/1', '...|\n",
      "|https://www.oddsp...|     Coolbet|['9/50', '143/20'...|\n",
      "|https://www.oddsp...|     Curebet|['17/100', '71/10...|\n",
      "|https://www.oddsp...|     Ditobet|['17/100', '37/5'...|\n",
      "|https://www.oddsp...|       GGBET|['9/50', '337/50'...|\n",
      "|https://www.oddsp...|      Lasbet|['17/100', '37/5'...|\n",
      "|https://www.oddsp...| Marathonbet|['17/100', '37/5'...|\n",
      "|https://www.oddsp...|      N1 Bet|['17/100', '172/2...|\n",
      "|https://www.oddsp...|   Parimatch|['3/20', '69/10',...|\n",
      "|https://www.oddsp...|    Pinnacle|['4/25', '731/100...|\n",
      "|https://www.oddsp...|      Unibet|['9/50', '7/1', '...|\n",
      "|https://www.oddsp...|William Hill|['3/20', '13/2', ...|\n",
      "|https://www.oddsp...|    10x10bet|['181/100', '51/2...|\n",
      "|https://www.oddsp...|       1xBet|['93/50', '13/5',...|\n",
      "|https://www.oddsp...| bet-at-home|['7/4', '47/20', ...|\n",
      "+--------------------+------------+--------------------+\n",
      "only showing top 20 rows\n",
      "\n"
     ]
    }
   ],
   "source": [
    "df.show()"
   ]
  },
  {
   "cell_type": "code",
   "execution_count": 10,
   "id": "33b9c29e",
   "metadata": {},
   "outputs": [],
   "source": [
    "def ConvertProbabilityToDecimal(probability_list):\n",
    "    decimal_list = []\n",
    "    probability_list = literal_eval(probability_list)\n",
    "    for i in probability_list:\n",
    "        num,den = i.split(\"/\")\n",
    "        decimal_odd = 1 + float(num) / float(den)\n",
    "        \n",
    "        decimal_list.append(decimal_odd)\n",
    "        \n",
    "    return decimal_list"
   ]
  },
  {
   "cell_type": "code",
   "execution_count": 11,
   "id": "a9c5548f",
   "metadata": {},
   "outputs": [],
   "source": [
    "convertOddsUDF = udf(lambda z: ConvertProbabilityToDecimal(z), StringType())"
   ]
  },
  {
   "cell_type": "code",
   "execution_count": 16,
   "id": "35129fa4",
   "metadata": {},
   "outputs": [],
   "source": [
    "df = df.withColumn(\"decimal_odds\", convertOddsUDF(df.odds))"
   ]
  },
  {
   "cell_type": "code",
   "execution_count": 17,
   "id": "35800d50",
   "metadata": {},
   "outputs": [
    {
     "name": "stdout",
     "output_type": "stream",
     "text": [
      "+--------------------+------------+--------------------+--------------------+\n",
      "|           match_url|      bookie|                odds|        decimal_odds|\n",
      "+--------------------+------------+--------------------+--------------------+\n",
      "|https://www.oddsp...|    10x10bet|['17/100', '71/10...|   [1.17, 8.1, 19.0]|\n",
      "|https://www.oddsp...|       1xBet|['9/50', '37/5', ...|   [1.18, 8.4, 18.0]|\n",
      "|https://www.oddsp...| bet-at-home|['4/25', '31/5', ...|   [1.16, 7.2, 15.0]|\n",
      "|https://www.oddsp...|      bet365|['7/50', '13/2', ...|[1.14000000000000...|\n",
      "|https://www.oddsp...|    BetFinal|['9/50', '13/2', ...|   [1.18, 7.5, 17.0]|\n",
      "|https://www.oddsp...|        bwin|['4/25', '7/1', '...|   [1.16, 8.0, 16.5]|\n",
      "|https://www.oddsp...|     Coolbet|['9/50', '143/20'...|  [1.18, 8.15, 19.5]|\n",
      "|https://www.oddsp...|     Curebet|['17/100', '71/10...|   [1.17, 8.1, 19.0]|\n",
      "|https://www.oddsp...|     Ditobet|['17/100', '37/5'...|   [1.17, 8.4, 21.0]|\n",
      "|https://www.oddsp...|       GGBET|['9/50', '337/50'...| [1.18, 7.74, 18.63]|\n",
      "|https://www.oddsp...|      Lasbet|['17/100', '37/5'...|   [1.17, 8.4, 21.0]|\n",
      "|https://www.oddsp...| Marathonbet|['17/100', '37/5'...|  [1.17, 8.4, 18.75]|\n",
      "|https://www.oddsp...|      N1 Bet|['17/100', '172/2...|[1.17, 7.88, 16.7...|\n",
      "|https://www.oddsp...|   Parimatch|['3/20', '69/10',...|   [1.15, 7.9, 17.5]|\n",
      "|https://www.oddsp...|    Pinnacle|['4/25', '731/100...|[1.16, 8.30999999...|\n",
      "|https://www.oddsp...|      Unibet|['9/50', '7/1', '...|   [1.18, 8.0, 18.0]|\n",
      "|https://www.oddsp...|William Hill|['3/20', '13/2', ...|   [1.15, 7.5, 19.0]|\n",
      "|https://www.oddsp...|    10x10bet|['181/100', '51/2...|  [2.81, 3.55, 2.54]|\n",
      "|https://www.oddsp...|       1xBet|['93/50', '13/5',...|[2.86000000000000...|\n",
      "|https://www.oddsp...| bet-at-home|['7/4', '47/20', ...|  [2.75, 3.35, 2.45]|\n",
      "|https://www.oddsp...|      bet365|['7/4', '5/2', '2...|   [2.75, 3.5, 2.45]|\n",
      "|https://www.oddsp...|    BetFinal|['9/5', '5/2', '7...|    [2.8, 3.5, 2.58]|\n",
      "|https://www.oddsp...|        bwin|['17/10', '12/5',...|    [2.7, 3.4, 2.55]|\n",
      "|https://www.oddsp...|     Coolbet|['177/100', '51/2...|  [2.77, 3.55, 2.65]|\n",
      "|https://www.oddsp...|     Curebet|['181/100', '51/2...|  [2.81, 3.55, 2.54]|\n",
      "|https://www.oddsp...|     Ditobet|['46/25', '259/10...|[2.84, 3.59, 2.57...|\n",
      "|https://www.oddsp...|       GGBET|['173/100', '247/...|  [2.73, 3.47, 2.67]|\n",
      "|https://www.oddsp...|      Lasbet|['46/25', '259/10...|[2.84, 3.59, 2.57...|\n",
      "|https://www.oddsp...| Marathonbet|['183/100', '129/...|  [2.83, 3.58, 2.55]|\n",
      "|https://www.oddsp...|      N1 Bet|['37/20', '243/10...|  [2.85, 3.43, 2.52]|\n",
      "|https://www.oddsp...|   Parimatch|['7/4', '51/20', ...|  [2.75, 3.55, 2.55]|\n",
      "|https://www.oddsp...|    Pinnacle|['183/100', '259/...|[2.83, 3.59, 2.57...|\n",
      "|https://www.oddsp...|      Unibet|['9/5', '51/20', ...|    [2.8, 3.55, 2.6]|\n",
      "|https://www.oddsp...|William Hill|['7/4', '12/5', '...|    [2.75, 3.4, 2.5]|\n",
      "|https://www.oddsp...|    10x10bet|['31/25', '5/2', ...|   [2.24, 3.5, 3.37]|\n",
      "|https://www.oddsp...|       1xBet|['129/100', '127/...|  [2.29, 3.54, 3.36]|\n",
      "|https://www.oddsp...| bet-at-home|['59/50', '12/5',...|[2.17999999999999...|\n",
      "|https://www.oddsp...|      bet365|['23/20', '5/2', ...|   [2.15, 3.5, 3.25]|\n",
      "|https://www.oddsp...|    BetFinal|['63/50', '5/2', ...|    [2.26, 3.5, 3.4]|\n",
      "|https://www.oddsp...|        bwin|['6/5', '5/2', '1...|     [2.2, 3.5, 3.2]|\n",
      "|https://www.oddsp...|     Coolbet|['61/50', '63/25'...|[2.21999999999999...|\n",
      "|https://www.oddsp...|     Curebet|['31/25', '5/2', ...|   [2.24, 3.5, 3.37]|\n",
      "|https://www.oddsp...|     Ditobet|['5/4', '253/100'...|  [2.25, 3.53, 3.41]|\n",
      "|https://www.oddsp...|       GGBET|['32/25', '131/50...|[2.28000000000000...|\n",
      "|https://www.oddsp...|      Lasbet|['5/4', '253/100'...|  [2.25, 3.53, 3.41]|\n",
      "|https://www.oddsp...| Marathonbet|['127/100', '63/2...|  [2.27, 3.52, 3.34]|\n",
      "|https://www.oddsp...|      N1 Bet|['123/100', '5/2'...|   [2.23, 3.5, 3.27]|\n",
      "|https://www.oddsp...|   Parimatch|['123/100', '49/2...|  [2.23, 3.45, 3.35]|\n",
      "|https://www.oddsp...|    Pinnacle|['31/25', '63/25'...|  [2.24, 3.52, 3.42]|\n",
      "|https://www.oddsp...|      Unibet|['123/100', '13/5...|    [2.23, 3.6, 3.4]|\n",
      "|https://www.oddsp...|William Hill|['6/5', '12/5', '...|     [2.2, 3.4, 3.2]|\n",
      "|https://www.oddsp...|    10x10bet|['103/50', '241/1...|[3.06, 3.41, 2.42...|\n",
      "|https://www.oddsp...|       1xBet|['207/100', '63/2...|  [3.07, 3.52, 2.46]|\n",
      "|https://www.oddsp...| bet-at-home|['19/10', '9/4', ...|    [2.9, 3.25, 2.4]|\n",
      "|https://www.oddsp...|      bet365|['187/100', '23/1...|   [2.87, 3.3, 2.37]|\n",
      "|https://www.oddsp...|    BetFinal|['21/10', '12/5',...|    [3.1, 3.4, 2.45]|\n",
      "|https://www.oddsp...|        bwin|['2/1', '23/10', ...|     [3.0, 3.3, 2.3]|\n",
      "|https://www.oddsp...|     Coolbet|['41/20', '121/50...|   [3.05, 3.42, 2.5]|\n",
      "|https://www.oddsp...|     Curebet|['103/50', '241/1...|[3.06, 3.41, 2.42...|\n",
      "|https://www.oddsp...|     Ditobet|['209/100', '247/...|  [3.09, 3.47, 2.45]|\n",
      "|https://www.oddsp...|       GGBET|['101/50', '49/20...|  [3.02, 3.45, 2.45]|\n",
      "|https://www.oddsp...|      Lasbet|['209/100', '247/...|  [3.09, 3.47, 2.45]|\n",
      "|https://www.oddsp...| Marathonbet|['51/25', '5/2', ...|   [3.04, 3.5, 2.44]|\n",
      "|https://www.oddsp...|      N1 Bet|['199/100', '233/...|[2.99, 3.33, 2.46...|\n",
      "|https://www.oddsp...|   Parimatch|['41/20', '12/5',...|   [3.05, 3.4, 2.44]|\n",
      "|https://www.oddsp...|    Pinnacle|['211/100', '243/...|  [3.11, 3.43, 2.44]|\n",
      "|https://www.oddsp...|      Unibet|['21/10', '12/5',...|[3.1, 3.4, 2.4299...|\n",
      "|https://www.oddsp...|William Hill|['19/10', '23/10'...|     [2.9, 3.3, 2.4]|\n",
      "|https://www.oddsp...|    10x10bet|['67/100', '3/1',...|    [1.67, 4.0, 5.4]|\n",
      "|https://www.oddsp...|       1xBet|['7/10', '78/25',...|    [1.7, 4.12, 5.4]|\n",
      "|https://www.oddsp...| bet-at-home|['16/25', '57/20'...|[1.64000000000000...|\n",
      "|https://www.oddsp...|      bet365|['13/20', '3/1', ...|   [1.65, 4.0, 4.75]|\n",
      "|https://www.oddsp...|    BetFinal|['69/100', '3/1',...|    [1.69, 4.0, 5.5]|\n",
      "|https://www.oddsp...|        bwin|['3/5', '3/1', '9...|     [1.6, 4.0, 5.5]|\n",
      "|https://www.oddsp...|     Coolbet|['18/25', '3/1', ...|    [1.72, 4.0, 5.3]|\n",
      "|https://www.oddsp...|     Curebet|['67/100', '3/1',...|    [1.67, 4.0, 5.4]|\n",
      "|https://www.oddsp...|     Ditobet|['69/100', '31/10...|    [1.69, 4.1, 5.5]|\n",
      "|https://www.oddsp...|       GGBET|['71/100', '61/20...|  [1.71, 4.05, 5.06]|\n",
      "|https://www.oddsp...|      Lasbet|['69/100', '31/10...|    [1.69, 4.1, 5.5]|\n",
      "|https://www.oddsp...| Marathonbet|['17/25', '31/10'...|[1.68000000000000...|\n",
      "|https://www.oddsp...|      N1 Bet|['17/25', '3/1', ...|[1.68000000000000...|\n",
      "|https://www.oddsp...|   Parimatch|['17/25', '29/10'...|[1.68000000000000...|\n",
      "|https://www.oddsp...|    Pinnacle|['17/25', '76/25'...|[1.68000000000000...|\n",
      "|https://www.oddsp...|      Unibet|['17/25', '31/10'...|[1.68000000000000...|\n",
      "|https://www.oddsp...|William Hill|['13/20', '11/4',...|  [1.65, 3.75, 5.25]|\n",
      "|https://www.oddsp...|    10x10bet|['131/100', '263/...|  [2.31, 3.63, 3.11]|\n",
      "|https://www.oddsp...|       1xBet|['34/25', '131/50...|[2.36000000000000...|\n",
      "|https://www.oddsp...| bet-at-home|['27/20', '23/10'...|   [2.35, 3.3, 2.95]|\n",
      "|https://www.oddsp...|      bet365|['11/10', '23/10'...|     [2.1, 3.3, 3.6]|\n",
      "|https://www.oddsp...|    BetFinal|['7/5', '5/2', '2...|     [2.4, 3.5, 3.1]|\n",
      "|https://www.oddsp...|        bwin|['5/4', '5/2', '2...|    [2.25, 3.5, 3.0]|\n",
      "|https://www.oddsp...|     Coolbet|['6/5', '47/20', ...|   [2.2, 3.35, 3.75]|\n",
      "|https://www.oddsp...|     Curebet|['131/100', '263/...|  [2.31, 3.63, 3.11]|\n",
      "|https://www.oddsp...|     Ditobet|['133/100', '267/...|  [2.33, 3.67, 3.14]|\n",
      "|https://www.oddsp...|       GGBET|['33/25', '13/5',...|[2.32000000000000...|\n",
      "|https://www.oddsp...|      Lasbet|['133/100', '267/...|  [2.33, 3.67, 3.14]|\n",
      "|https://www.oddsp...| Marathonbet|['69/50', '133/50...|  [2.38, 3.66, 3.02]|\n",
      "|https://www.oddsp...|      N1 Bet|['27/20', '229/10...|  [2.35, 3.29, 2.94]|\n",
      "|https://www.oddsp...|   Parimatch|['32/25', '5/2', ...|[2.28000000000000...|\n",
      "|https://www.oddsp...|    Pinnacle|['32/25', '251/10...|[2.28000000000000...|\n",
      "+--------------------+------------+--------------------+--------------------+\n",
      "only showing top 100 rows\n",
      "\n"
     ]
    }
   ],
   "source": [
    "df.show(100)"
   ]
  },
  {
   "cell_type": "code",
   "execution_count": null,
   "id": "b26f210a",
   "metadata": {},
   "outputs": [],
   "source": []
  }
 ],
 "metadata": {
  "kernelspec": {
   "display_name": "Python 3 (ipykernel)",
   "language": "python",
   "name": "python3"
  },
  "language_info": {
   "codemirror_mode": {
    "name": "ipython",
    "version": 3
   },
   "file_extension": ".py",
   "mimetype": "text/x-python",
   "name": "python",
   "nbconvert_exporter": "python",
   "pygments_lexer": "ipython3",
   "version": "3.8.10"
  }
 },
 "nbformat": 4,
 "nbformat_minor": 5
}
