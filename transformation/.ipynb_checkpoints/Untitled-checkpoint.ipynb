{
 "cells": [
  {
   "cell_type": "code",
   "execution_count": 112,
   "id": "fd5f78c5",
   "metadata": {},
   "outputs": [],
   "source": [
    "from pyspark.sql import SparkSession\n",
    "from pyspark.sql.functions import col, udf\n",
    "from pyspark.sql.types import StringType\n",
    "from ast import literal_eval\n",
    "\n",
    "import json"
   ]
  },
  {
   "cell_type": "code",
   "execution_count": 48,
   "id": "2d136eb2",
   "metadata": {},
   "outputs": [],
   "source": [
    "spark = SparkSession.builder.appName(\"Test\").getOrCreate()"
   ]
  },
  {
   "cell_type": "code",
   "execution_count": 49,
   "id": "156b18d9",
   "metadata": {},
   "outputs": [
    {
     "data": {
      "text/html": [
       "\n",
       "            <div>\n",
       "                <p><b>SparkSession - in-memory</b></p>\n",
       "                \n",
       "        <div>\n",
       "            <p><b>SparkContext</b></p>\n",
       "\n",
       "            <p><a href=\"http://david-ubuntu.lan:4040\">Spark UI</a></p>\n",
       "\n",
       "            <dl>\n",
       "              <dt>Version</dt>\n",
       "                <dd><code>v3.2.0</code></dd>\n",
       "              <dt>Master</dt>\n",
       "                <dd><code>local[*]</code></dd>\n",
       "              <dt>AppName</dt>\n",
       "                <dd><code>Test</code></dd>\n",
       "            </dl>\n",
       "        </div>\n",
       "        \n",
       "            </div>\n",
       "        "
      ],
      "text/plain": [
       "<pyspark.sql.session.SparkSession at 0x7f88c08b02b0>"
      ]
     },
     "execution_count": 49,
     "metadata": {},
     "output_type": "execute_result"
    }
   ],
   "source": [
    "spark"
   ]
  },
  {
   "cell_type": "code",
   "execution_count": 114,
   "id": "f2e5612f",
   "metadata": {},
   "outputs": [],
   "source": [
    "## reading the dataset\n",
    "df = spark.read.csv('../../files/075435482.csv',header=True,inferSchema=True)"
   ]
  },
  {
   "cell_type": "code",
   "execution_count": 86,
   "id": "4811ea1f",
   "metadata": {},
   "outputs": [
    {
     "name": "stdout",
     "output_type": "stream",
     "text": [
      "root\n",
      " |-- match_url: string (nullable = true)\n",
      " |-- bookie: string (nullable = true)\n",
      " |-- odds: string (nullable = true)\n",
      "\n"
     ]
    }
   ],
   "source": [
    "df.printSchema()"
   ]
  },
  {
   "cell_type": "code",
   "execution_count": 87,
   "id": "e740e70a",
   "metadata": {},
   "outputs": [
    {
     "name": "stdout",
     "output_type": "stream",
     "text": [
      "+--------------------+------------+--------------------+\n",
      "|           match_url|      bookie|                odds|\n",
      "+--------------------+------------+--------------------+\n",
      "|https://www.oddsp...|    10x10bet|['31/25', '5/2', ...|\n",
      "|https://www.oddsp...|       1xBet|['129/100', '127/...|\n",
      "|https://www.oddsp...| bet-at-home|['59/50', '12/5',...|\n",
      "|https://www.oddsp...|      bet365|['23/20', '5/2', ...|\n",
      "|https://www.oddsp...|    BetFinal|['63/50', '5/2', ...|\n",
      "|https://www.oddsp...|        bwin|['6/5', '5/2', '1...|\n",
      "|https://www.oddsp...|     Coolbet|['61/50', '63/25'...|\n",
      "|https://www.oddsp...|     Curebet|['31/25', '5/2', ...|\n",
      "|https://www.oddsp...|     Ditobet|['5/4', '253/100'...|\n",
      "|https://www.oddsp...|       GGBET|['32/25', '131/50...|\n",
      "|https://www.oddsp...|      Lasbet|['5/4', '253/100'...|\n",
      "|https://www.oddsp...| Marathonbet|['127/100', '63/2...|\n",
      "|https://www.oddsp...|      N1 Bet|['123/100', '5/2'...|\n",
      "|https://www.oddsp...|   Parimatch|['123/100', '49/2...|\n",
      "|https://www.oddsp...|    Pinnacle|['31/25', '63/25'...|\n",
      "|https://www.oddsp...|      Unibet|['123/100', '13/5...|\n",
      "|https://www.oddsp...|William Hill|['6/5', '12/5', '...|\n",
      "+--------------------+------------+--------------------+\n",
      "\n"
     ]
    }
   ],
   "source": [
    "df.show()"
   ]
  },
  {
   "cell_type": "code",
   "execution_count": 131,
   "id": "33b9c29e",
   "metadata": {},
   "outputs": [],
   "source": [
    "def ConvertProbabilityToDecimal(probability_list):\n",
    "    decimal_list = []\n",
    "    probability_list = literal_eval(probability_list)\n",
    "    for i in probability_list:\n",
    "        num,den = i.split(\"/\")\n",
    "        decimal_odd = 1 + float(num) / float(den)\n",
    "        \n",
    "        decimal_list.append(decimal_odd)\n",
    "        \n",
    "    return decimal_list"
   ]
  },
  {
   "cell_type": "code",
   "execution_count": 132,
   "id": "a9c5548f",
   "metadata": {},
   "outputs": [],
   "source": [
    "convertOddsUDF = udf(lambda z: ConvertProbabilityToDecimal(z), StringType())"
   ]
  },
  {
   "cell_type": "code",
   "execution_count": 133,
   "id": "35129fa4",
   "metadata": {},
   "outputs": [
    {
     "data": {
      "text/plain": [
       "DataFrame[match_url: string, bookie: string, odds: string, decimal_odds: string]"
      ]
     },
     "execution_count": 133,
     "metadata": {},
     "output_type": "execute_result"
    }
   ],
   "source": [
    "df.withColumn(\"decimal_odds\", convertOddsUDF(df.odds))"
   ]
  },
  {
   "cell_type": "code",
   "execution_count": 134,
   "id": "35800d50",
   "metadata": {},
   "outputs": [
    {
     "name": "stdout",
     "output_type": "stream",
     "text": [
      "+--------------------+------------+--------------------+--------------------+\n",
      "|           match_url|      bookie|                odds|        decimal_odds|\n",
      "+--------------------+------------+--------------------+--------------------+\n",
      "|https://www.oddsp...|    10x10bet|['31/25', '5/2', ...|   [2.24, 3.5, 3.37]|\n",
      "|https://www.oddsp...|       1xBet|['129/100', '127/...|  [2.29, 3.54, 3.36]|\n",
      "|https://www.oddsp...| bet-at-home|['59/50', '12/5',...|[2.17999999999999...|\n",
      "|https://www.oddsp...|      bet365|['23/20', '5/2', ...|   [2.15, 3.5, 3.25]|\n",
      "|https://www.oddsp...|    BetFinal|['63/50', '5/2', ...|    [2.26, 3.5, 3.4]|\n",
      "|https://www.oddsp...|        bwin|['6/5', '5/2', '1...|     [2.2, 3.5, 3.2]|\n",
      "|https://www.oddsp...|     Coolbet|['61/50', '63/25'...|[2.21999999999999...|\n",
      "|https://www.oddsp...|     Curebet|['31/25', '5/2', ...|   [2.24, 3.5, 3.37]|\n",
      "|https://www.oddsp...|     Ditobet|['5/4', '253/100'...|  [2.25, 3.53, 3.41]|\n",
      "|https://www.oddsp...|       GGBET|['32/25', '131/50...|[2.28000000000000...|\n",
      "|https://www.oddsp...|      Lasbet|['5/4', '253/100'...|  [2.25, 3.53, 3.41]|\n",
      "|https://www.oddsp...| Marathonbet|['127/100', '63/2...|  [2.27, 3.52, 3.34]|\n",
      "|https://www.oddsp...|      N1 Bet|['123/100', '5/2'...|   [2.23, 3.5, 3.27]|\n",
      "|https://www.oddsp...|   Parimatch|['123/100', '49/2...|  [2.23, 3.45, 3.35]|\n",
      "|https://www.oddsp...|    Pinnacle|['31/25', '63/25'...|  [2.24, 3.52, 3.42]|\n",
      "|https://www.oddsp...|      Unibet|['123/100', '13/5...|    [2.23, 3.6, 3.4]|\n",
      "|https://www.oddsp...|William Hill|['6/5', '12/5', '...|     [2.2, 3.4, 3.2]|\n",
      "+--------------------+------------+--------------------+--------------------+\n",
      "\n"
     ]
    }
   ],
   "source": [
    "df.show()"
   ]
  },
  {
   "cell_type": "code",
   "execution_count": null,
   "id": "b26f210a",
   "metadata": {},
   "outputs": [],
   "source": []
  }
 ],
 "metadata": {
  "kernelspec": {
   "display_name": "Python 3 (ipykernel)",
   "language": "python",
   "name": "python3"
  },
  "language_info": {
   "codemirror_mode": {
    "name": "ipython",
    "version": 3
   },
   "file_extension": ".py",
   "mimetype": "text/x-python",
   "name": "python",
   "nbconvert_exporter": "python",
   "pygments_lexer": "ipython3",
   "version": "3.8.10"
  }
 },
 "nbformat": 4,
 "nbformat_minor": 5
}
